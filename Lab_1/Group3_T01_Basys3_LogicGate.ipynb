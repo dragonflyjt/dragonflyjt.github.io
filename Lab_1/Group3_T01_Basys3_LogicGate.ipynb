{
  "cells": [
    {
      "cell_type": "markdown",
      "metadata": {
        "id": "view-in-github",
        "colab_type": "text"
      },
      "source": [
        "<a href=\"https://colab.research.google.com/github/dragonflyjt/dragonflyjt.github.io/blob/main/Lab_1/Group3_T01_Basys3_LogicGate.ipynb\" target=\"_parent\"><img src=\"https://colab.research.google.com/assets/colab-badge.svg\" alt=\"Open In Colab\"/></a>"
      ]
    },
    {
      "cell_type": "markdown",
      "metadata": {
        "id": "IOtLoFKHOPuV"
      },
      "source": [
        "## 30.110 Digital Systems Lab Group 3"
      ]
    },
    {
      "cell_type": "markdown",
      "metadata": {
        "id": "zz7sAPXcObbr"
      },
      "source": [
        "#### Members: Ahmad Danish Bin Azil (1006659), Leow Jing Ting (1006392), Lim Yee Kiat (1004224), Matthew Yim Tong Wong (1009835), Rk Suriya Varshan Suriyakumar Ramesh (1006362)"
      ]
    },
    {
      "cell_type": "markdown",
      "metadata": {
        "id": "d_i2PJivOhV7"
      },
      "source": [
        "\n",
        "1. **Inputs**:  \n",
        "   - `sw[0]` (Input A)  \n",
        "   - `sw[1]` (Input B)  \n",
        "2. **Outputs**:  \n",
        "   - Use `led[0]` to `led[7]` to represent the output of each logic gate (see table below).  \n",
        "3. **Truth Table**:\n",
        "\n",
        "| sw[1] (B) | sw[0] (A) | NOT A (led[0]) | NOT B (led[1]) | AND (led[2]) | OR (led[3]) | NOR (led[4]) | NAND (led[5]) | XOR (led[6]) | XNOR (led[7]) |\n",
        "|:---------:|:---------:|:--------------:|:--------------:|:-----------:|:----------:|:-----------:|:------------:|:-----------:|:------------:|\n",
        "| 0         | 0         | 1              | 1              | 0           | 0          | 1           | 1            | 0           | 1            |\n",
        "| 0         | 1         | 0              | 1              | 0           | 1          | 0           | 1            | 1           | 0            |\n",
        "| 1         | 0         | 1              | 0              | 0           | 1          | 0           | 1            | 1           | 0            |\n",
        "| 1         | 1         | 0              | 0              | 1           | 1          | 0           | 0            | 0           | 1            |\n"
      ]
    },
    {
      "cell_type": "markdown",
      "metadata": {
        "id": "5uex0r8FFZdH"
      },
      "source": [
        "## Verilog code"
      ]
    },
    {
      "cell_type": "code",
      "execution_count": null,
      "metadata": {
        "id": "HoLC9VAjFZdH"
      },
      "outputs": [],
      "source": [
        "`timescale 1ns / 1ps\n",
        "//////////////////////////////////////////////////////////////////////////////////\n",
        "\n",
        "// Create Date: 27.02.2025 13:12:19\n",
        "// Design Name:\n",
        "// Module Name: T01_Basys3_LogicGate\n",
        "// Project Name: Lab_01_Logic_Gate_Gp_03\n",
        "// Revision 0.01 - File Created\n",
        "\n",
        "//////////////////////////////////////////////////////////////////////////////////\n",
        "\n",
        "\n",
        "module T01_Basys3_LogicGate(\n",
        "input [1:0]sw,\n",
        "output [7:0]led\n",
        "    );\n",
        "    //Logic Gates\n",
        "    assign led[0] =~sw[0];\n",
        "    assign led[1] =~(~sw[1]);\n",
        "    assign led[2] = sw[0]&sw[1];\n",
        "    assign led[3] = sw[0]|sw[1];\n",
        "    assign led[4] =~(sw[0]|sw[1]);\n",
        "    assign led[5] =~(sw[0]&sw[1]);\n",
        "    assign led[6] = sw[0]^sw[1];\n",
        "    assign led[7] = ~(sw[0]^sw[1]);\n",
        "\n",
        "endmodule"
      ]
    },
    {
      "cell_type": "markdown",
      "metadata": {
        "id": "2KDmYQs1FZdI"
      },
      "source": [
        "## Testbench"
      ]
    },
    {
      "cell_type": "code",
      "execution_count": null,
      "metadata": {
        "id": "SuE-9UGOFZdJ"
      },
      "outputs": [],
      "source": [
        "`timescale 1ns / 1ps\n",
        "//////////////////////////////////////////////////////////////////////////////////\n",
        "\n",
        "// Create Date: 27.02.2025 13:26:50\n",
        "// Design Name:\n",
        "// Module Name: test_tb\n",
        "// Project Name: Lab_01_Logic_Gate_Gp_03\n",
        "\n",
        "//////////////////////////////////////////////////////////////////////////////////\n",
        "\n",
        "\n",
        "module test_tb;\n",
        "reg [1:0]sw;\n",
        "wire [7:0]led;\n",
        "\n",
        "T01_Basys3_LogicGate uut(sw,led);\n",
        "initial begin\n",
        " $dumpfile(\"tb.vcd\");\n",
        " $dumpvars(0,test_tb);\n",
        "\n",
        "#0 sw = 2'b00;\n",
        "#1 sw = 2'b01;\n",
        "#1 sw = 2'b10;\n",
        "#1 sw = 2'b11;\n",
        "#1 $finish;\n",
        "\n",
        "   $dumpoff;\n",
        "   end\n",
        "endmodule"
      ]
    },
    {
      "cell_type": "markdown",
      "metadata": {
        "id": "ry2RShl0zumm"
      },
      "source": [
        "## FPGA Output:"
      ]
    },
    {
      "cell_type": "markdown",
      "metadata": {
        "id": "zNCb9Nu2zicX"
      },
      "source": [
        "Show the LEDs updating in real-time as switches `sw[0]` and `sw[1]` toggle.\n",
        "\n",
        "### SW[1:0] = 2'b00\n",
        "![SW00](https://raw.githubusercontent.com/Varshan98/DSL_group_03/refs/heads/main/Lab_1/photo_2025-02-27_17-55-49.jpg)\n",
        "\n",
        "### SW[1:0] = 2'b01\n",
        "![SW01](https://raw.githubusercontent.com/Varshan98/DSL_group_03/refs/heads/main/Lab_1/photo_2025-02-27_17-55-55.jpg)\n",
        "\n",
        "### SW[1:0] = 2'b10\n",
        "![SW10](https://raw.githubusercontent.com/Varshan98/DSL_group_03/refs/heads/main/Lab_1/photo_2025-02-27_17-55-26.jpg)\n",
        "\n",
        "### SW[1:0] = 2'b11\n",
        "![SW11](https://raw.githubusercontent.com/Varshan98/DSL_group_03/refs/heads/main/Lab_1/photo_2025-02-27_17-56-00.jpg)"
      ]
    },
    {
      "cell_type": "markdown",
      "metadata": {
        "id": "-QfHl5gXFZdJ"
      },
      "source": [
        "## Video Demo:"
      ]
    },
    {
      "cell_type": "markdown",
      "metadata": {
        "id": "BCv77lopFZdJ"
      },
      "source": [
        "https://youtube.com/shorts/g2cbPyxtEiM"
      ]
    },
    {
      "cell_type": "markdown",
      "metadata": {
        "id": "-Ro5aZ8tFZdJ"
      },
      "source": [
        "## Python Script to verify logic gates:"
      ]
    },
    {
      "cell_type": "markdown",
      "metadata": {
        "id": "VIHJw_6wFZdK"
      },
      "source": [
        "The `logic_gate` function is used to verify the truth table and confirm the correctness of our results."
      ]
    },
    {
      "cell_type": "code",
      "execution_count": null,
      "metadata": {
        "id": "dJO4Uux7FZdK",
        "outputId": "5669b351-0acf-41bf-efcb-ab6ff38c67e2"
      },
      "outputs": [
        {
          "name": "stdout",
          "output_type": "stream",
          "text": [
            "Logic Gate Verifier\n",
            "\n",
            "Truth table for AND gate:\n",
            "AND(0, 0) = 0\n",
            "AND(0, 1) = 0\n",
            "AND(1, 0) = 0\n",
            "AND(1, 1) = 1\n",
            "\n",
            "Truth table for OR gate:\n",
            "OR(0, 0) = 0\n",
            "OR(0, 1) = 1\n",
            "OR(1, 0) = 1\n",
            "OR(1, 1) = 1\n",
            "\n",
            "Truth table for XOR gate:\n",
            "XOR(0, 0) = 0\n",
            "XOR(0, 1) = 1\n",
            "XOR(1, 0) = 1\n",
            "XOR(1, 1) = 0\n",
            "\n",
            "Truth table for NAND gate:\n",
            "NAND(0, 0) = 1\n",
            "NAND(0, 1) = 1\n",
            "NAND(1, 0) = 1\n",
            "NAND(1, 1) = 0\n",
            "\n",
            "Truth table for NOR gate:\n",
            "NOR(0, 0) = 1\n",
            "NOR(0, 1) = 0\n",
            "NOR(1, 0) = 0\n",
            "NOR(1, 1) = 0\n",
            "\n",
            "Truth table for XNOR gate:\n",
            "XNOR(0, 0) = 1\n",
            "XNOR(0, 1) = 0\n",
            "XNOR(1, 0) = 0\n",
            "XNOR(1, 1) = 1\n"
          ]
        }
      ],
      "source": [
        "def logic_gate(a: int, b: int, gate: str) -> int:\n",
        "    \"\"\"Simulates a logic gate with inputs a and b.\"\"\"\n",
        "    if gate == \"AND\":\n",
        "        return a & b\n",
        "    elif gate == \"OR\":\n",
        "        return a | b\n",
        "    elif gate == \"XOR\":\n",
        "        return a ^ b\n",
        "    elif gate == \"NAND\":\n",
        "        return ~(a & b) & 1\n",
        "    elif gate == \"NOR\":\n",
        "        return ~(a | b) & 1\n",
        "    elif gate == \"XNOR\":\n",
        "        return ~(a ^ b) & 1\n",
        "    else:\n",
        "        raise ValueError(\"Invalid gate. Choose from AND, OR, XOR, NAND, NOR, XNOR.\")\n",
        "\n",
        "\n",
        "def main():\n",
        "    print(\"Logic Gate Verifier\")\n",
        "    inputs = [(0, 0), (0, 1), (1, 0), (1, 1)]\n",
        "    gates = [\"AND\", \"OR\", \"XOR\", \"NAND\", \"NOR\", \"XNOR\"]\n",
        "\n",
        "    for gate in gates:\n",
        "        print(f\"\\nTruth table for {gate} gate:\")\n",
        "        for a, b in inputs:\n",
        "            result = logic_gate(a, b, gate)\n",
        "            print(f\"{gate}({a}, {b}) = {result}\")\n",
        "\n",
        "\n",
        "if __name__ == \"__main__\":\n",
        "    main()"
      ]
    },
    {
      "cell_type": "markdown",
      "metadata": {
        "id": "apQoc5bxFim-"
      },
      "source": [
        "## Challenges:\n",
        "*  Setting up Vivado was a time consuming and tedious process as it was out first time using it\n",
        "*  Finding and fixing syntax errors along the way\n",
        "*  Insufficient micro-USB cable to connect to the FPGA.\n",
        "*  Google Collab does not allow collaboration as only one member can edit it at any time\n",
        "*   Waiting time for Vivado to run simulations, we learn to be more patient\n",
        "*   Unable to generate BitStream due to constraint file issues or incorrect Port/Board selection"
      ]
    },
    {
      "cell_type": "markdown",
      "source": [
        "## Lessons Learned:\n",
        "\n",
        "*   How to use Vivado to create a new project, including: creating a constraint file, design source, and simulation file, as well as running the simulation, synthesis, BitStream generation, and implementation\n",
        "*   Verilog syntax (eg. testbench module name must match the named used in $dumpvars)\n",
        "*   Troubleshooting errors and identifying root causes in BitStream Generation\n",
        "\n"
      ],
      "metadata": {
        "id": "lgXsc4omFrPD"
      }
    },
    {
      "cell_type": "markdown",
      "metadata": {
        "id": "VXYGBNhVGTq8"
      },
      "source": [
        "## Use of AI to verify our results:\n",
        "*   Syntax for Logic Gates, Debugging of Verilog Code (Gemini)\n",
        "*   Python Verification Script (Chatgpt, DeepSeek)\n",
        "\n",
        "\n",
        "\n",
        "\n"
      ]
    }
  ],
  "metadata": {
    "colab": {
      "provenance": [],
      "include_colab_link": true
    },
    "kernelspec": {
      "display_name": "Python 3",
      "language": "python",
      "name": "python3"
    },
    "language_info": {
      "codemirror_mode": {
        "name": "ipython",
        "version": 3
      },
      "file_extension": ".py",
      "mimetype": "text/x-python",
      "name": "python",
      "nbconvert_exporter": "python",
      "pygments_lexer": "ipython3",
      "version": "3.11.5"
    }
  },
  "nbformat": 4,
  "nbformat_minor": 0
}